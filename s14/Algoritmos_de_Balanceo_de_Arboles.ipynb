{
  "nbformat": 4,
  "nbformat_minor": 0,
  "metadata": {
    "colab": {
      "name": "Algoritmos de Balanceo de Arboles.ipynb",
      "provenance": [],
      "authorship_tag": "ABX9TyMP0xjrqFo4W1yMBsp00boL"
    },
    "kernelspec": {
      "name": "python3",
      "display_name": "Python 3"
    },
    "language_info": {
      "name": "python"
    }
  },
  "cells": [
    {
      "cell_type": "markdown",
      "metadata": {
        "id": "asxNz9nCLFm0"
      },
      "source": [
        "#Altura\n",
        "\n",
        "```\n",
        "Function altura(Nodo nodo) {\n",
        "\t\tif (nodo == NULL) \n",
        "      retorna 0\n",
        "\t\tretorna nodo.altura\n",
        "\t}\n",
        "\n",
        "```\n",
        "\n"
      ]
    },
    {
      "cell_type": "markdown",
      "metadata": {
        "id": "pOJTTm6vIUOm"
      },
      "source": [
        "#Rotación Derecha\n",
        "\n",
        "```\n",
        "Function rotarDerecha(Nodo nodo) {\n",
        "\t\tNodo p = nodo.izq\n",
        "\t\tnodo.izq = p.der\n",
        "\t\tp.der = nodo\n",
        "\t\tnodo = p\n",
        "\t}\n",
        "\n",
        "```\n",
        "\n"
      ]
    },
    {
      "cell_type": "markdown",
      "metadata": {
        "id": "DO3Hp7z3IX0M"
      },
      "source": [
        "#Rotación Izquierda\n",
        "```\n",
        "\tFunction rotarIzquierda(Nodo nodo) {\n",
        "\t\tNodo p = nodo.der\n",
        "\t\tnodo.der = p.izq\n",
        "\t\tp.izq = nodo\n",
        "\t\tnodo = p\n",
        "\t}\n",
        "```\n",
        "\n"
      ]
    },
    {
      "cell_type": "markdown",
      "metadata": {
        "id": "bRRHcMD3IZ4k"
      },
      "source": [
        "# Balancear Arbol\n",
        "\n",
        "```\n",
        "Function balancear(Nodo nodo) {\n",
        "\t\thizq = altura(nodo.izq)\n",
        "\t\thder = altura(nodo.der)\n",
        "\t\tdif = hder - hizq;\n",
        "\n",
        "\t\tSi (dif > 1) { \n",
        "\t\t\thhizq = altura(nodo.der.izq)\n",
        "\t\t\thhder = altura(nodo.der.der)\n",
        "\t\t\tSi (hhizq > hhder) { \n",
        "\t\t\t\trotarDerecha(nodo.der)\n",
        "\t\t\t}\n",
        "\t\t\trotarIzquierda(nodo)\n",
        "\t\t}\n",
        "\t\tSi (dif < -1) {\n",
        "\t\t\thhizq = altura(nodo.izq.izq)\n",
        "\t\t\thhder = altura(nodo.izq.der)\n",
        "\t\t\tSi (hhizq < hhder) { \n",
        "\t\t\t\trotarIzquierda(nodo.izq)\n",
        "\t\t\t}\n",
        "\t\t\trotarDerecha(nodo)\n",
        "\t\t}\n",
        "\t\t//Actualizar la altura del nodo raiz\n",
        "\t\thizq = altura(nodo->izq)\n",
        "\t\thder = altura(nodo->der)\n",
        "    Si (hizq > hder)\n",
        "      nodo->altura = 1 + hizq\n",
        "    Sino\n",
        "\t\t  nodo->altura = 1 + hder\n",
        "\t}\n",
        "\n",
        "```\n",
        "\n"
      ]
    },
    {
      "cell_type": "markdown",
      "metadata": {
        "id": "Izn7CDHRLe1l"
      },
      "source": [
        "#Asignación\n",
        "1. Implementar la función eliminar en AVL"
      ]
    },
    {
      "cell_type": "code",
      "metadata": {
        "id": "_qGWAWwhLn8x"
      },
      "source": [
        ""
      ],
      "execution_count": null,
      "outputs": []
    }
  ]
}