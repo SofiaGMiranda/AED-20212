{
  "nbformat": 4,
  "nbformat_minor": 0,
  "metadata": {
    "colab": {
      "name": "TA2.ipynb",
      "provenance": [],
      "collapsed_sections": [],
      "include_colab_link": true
    },
    "kernelspec": {
      "name": "python3",
      "display_name": "Python 3"
    },
    "language_info": {
      "name": "python"
    }
  },
  "cells": [
    {
      "cell_type": "markdown",
      "metadata": {
        "id": "view-in-github",
        "colab_type": "text"
      },
      "source": [
        "<a href=\"https://colab.research.google.com/github/Miguelu20201b298/AED-20212/blob/main/TA2.ipynb\" target=\"_parent\"><img src=\"https://colab.research.google.com/assets/colab-badge.svg\" alt=\"Open In Colab\"/></a>"
      ]
    },
    {
      "cell_type": "code",
      "metadata": {
        "id": "PZ3UnDUvnTtf"
      },
      "source": [
        ""
      ],
      "execution_count": null,
      "outputs": []
    },
    {
      "cell_type": "markdown",
      "metadata": {
        "id": "Ai_3UoZspc-e"
      },
      "source": [
        "##Ejercicio 13"
      ]
    },
    {
      "cell_type": "markdown",
      "metadata": {
        "id": "5bU4FiKbkxbI"
      },
      "source": [
        "Ejercicio 13.1"
      ]
    },
    {
      "cell_type": "code",
      "metadata": {
        "id": "SllzxsoNWUwA"
      },
      "source": [
        "\tint* arr = new int[n]; // 1\n",
        "\tint mayor = 0; // 1\n",
        "\tfor (int i = 0; i < n; i++) //1 + n(1 + ... + 2)\n",
        "\t{\n",
        "\t\tarr[i] = rand() % 30 + 1; // 5\n",
        "\t\tif (i > 0) // 1\n",
        "\t\t{\n",
        "\t\t\tif (arr[i] > mayor) // 2\n",
        "\t\t\t{\n",
        "\t\t\t\tmayor = arr[i]; // 2\n",
        "\t\t\t}\n",
        "\t\t}\n",
        "\t\tcout << arr[i]<<endl; // 3\n",
        "\t}\n",
        "\tcout << mayor; // 1\n",
        "  // 16*n + 4 ; O(n)"
      ],
      "execution_count": null,
      "outputs": []
    },
    {
      "cell_type": "markdown",
      "metadata": {
        "id": "M0Q11V3ZlpgW"
      },
      "source": [
        "Ejercicio 13.2"
      ]
    },
    {
      "cell_type": "code",
      "metadata": {
        "id": "jlPsuI4mXT8j"
      },
      "source": [
        "\tint* arr = new int[n]; // 1\n",
        "\tfor (int i = 0; i < n; i++) // 1 + n(1 + ... + 2)\n",
        "\t{\n",
        "\t\tarr[i] = rand() % 30 + 1; // 5\n",
        "\t}\n",
        "\tfor (int i = 0; i < n - 1; i++) { // 1 + (n-1)(1 + ... +2)\n",
        "\t\tfor (int k = i + 1; k < n; k++) { // 1 + (n - 1)(1 + ... + 2)\n",
        "\t\t\tif (arr[i] > arr[k]) { // 3\n",
        "\t\t\t\tint aux = arr[i]; // 2\n",
        "\t\t\t\tarr[i] = arr[k]; // 3\n",
        "\t\t\t\tarr[k] = aux; // 2\n",
        "\t\t\t}\n",
        "      cout << arr[i] << \"  \"; // 3\n",
        "\t} // 13n^2-22n+4; O(n^2)"
      ],
      "execution_count": null,
      "outputs": []
    },
    {
      "cell_type": "markdown",
      "metadata": {
        "id": "O18pic8lluL2"
      },
      "source": [
        "ejercicio 13.3"
      ]
    },
    {
      "cell_type": "code",
      "metadata": {
        "id": "4FIIFCGHk3ym"
      },
      "source": [
        "int n = 10; // 1\n",
        "\tint* arr = new int[n]; // 1\n",
        "\tint pos = 3; // 1\n",
        "\tint* aux = new int [n-1]; // 1\n",
        "\tfor (int i = 0; i < n; i++) // 1 + n(1 + ... + 2)\n",
        "\t{\n",
        "\t\tarr[i] = rand() % 30 + 1; // 5\n",
        "\t\tcout << arr[i] << \"  \"; // 2\n",
        "\t}\n",
        "\tfor (int i = 0; i < n; i++) // 1 + n(1 + ... +2)\n",
        "\t{\n",
        "\t\tif (i < pos)\t\t// 1\n",
        "\t\t\taux[i] = arr[i];\t// 3 en ambos casos hay 3 tiempos\n",
        "\t\telse aux[i] = arr[i + 1]; // - \n",
        "\t}\n",
        "\tdelete[]arr; // 1\n",
        "\tarr = aux; // 1\n",
        "\taux = nullptr; // 1\n",
        "\tdelete aux; // 1\n",
        "\tn--; // 2\n",
        "\tfor (int i = 0; i < n; i++) // 1 + n(1 + ... + 2)\n",
        "\t{\n",
        "\t\tcout << arr[i] << \"  \"; // 3\n",
        "\t}         // 23*n + 13; O(n)"
      ],
      "execution_count": null,
      "outputs": []
    },
    {
      "cell_type": "markdown",
      "metadata": {
        "id": "xPoEMgRKpN0d"
      },
      "source": [
        "ejercicio 13.4"
      ]
    },
    {
      "cell_type": "code",
      "metadata": {
        "id": "SEjHqsEbpM6H"
      },
      "source": [
        "int n = 10;\n",
        "\tint* arr = new int[n]; //1\n",
        "\tint busqueda = 5; // 1\n",
        "\tfor (int i = 0; i < n; i++) // 1 + n(1 + ... + 2)\n",
        "\t{\n",
        "\t\tarr[i] = rand() % 30 + 1; //5\n",
        "\t\tcout << arr[i] << endl; // 4\n",
        "\t}\n",
        "\tfor (int i = 0; i < n; i++) // 1 + n(1 + ... + 2)\n",
        "\t{\n",
        "\t\tif (arr[i] == busqueda) // 2\n",
        "\t\t\tcout << arr[i] << \"  \"; // 3\n",
        "\t} // 20*n + 4: O(n)"
      ],
      "execution_count": null,
      "outputs": []
    },
    {
      "cell_type": "markdown",
      "metadata": {
        "id": "-jacN9SSp40t"
      },
      "source": [
        "ejercicio 13.5"
      ]
    },
    {
      "cell_type": "code",
      "metadata": {
        "id": "hXQeBjuFpTxF"
      },
      "source": [
        "int n = 5;\n",
        "\tint fact = 1; // 1\n",
        "\tfor (int i = 1; i <= n; i++) { // 1 + n(1 + ... + 2)\n",
        "\t\tfact *= i; // 2\n",
        "\t}\n",
        "\tcout << fact; // 1\n",
        "  // 5*n + 3 ; O(n)"
      ],
      "execution_count": null,
      "outputs": []
    },
    {
      "cell_type": "markdown",
      "metadata": {
        "id": "VYUCuVHps1Sc"
      },
      "source": [
        "ejercicio 13.6"
      ]
    },
    {
      "cell_type": "code",
      "metadata": {
        "id": "PKTLH9mYqBjt"
      },
      "source": [
        "int n = 10;\n",
        "\tint* arr = new int[n]; // 1\n",
        "\tint busqueda = 3; // 1\n",
        "\tint igualdad = 0; // 1\n",
        "\tfor (int i = 0; i < n; i++) // 1 + n(1 + ... + 2)\n",
        "\t{\n",
        "\t\tarr[i] = rand() % 30 + 1; // 5\n",
        "\t\tcout << arr[i] << endl; // 4\n",
        "\t}\n",
        "\tfor (int i = 0; i < n; i++) // 1 + n(1+ ... + 2)\n",
        "\t{\n",
        "\t\tif (arr[i] == busqueda) // 3\n",
        "\t\t{\n",
        "\t\t\tigualdad = 1; // 1\n",
        "\t\t}\n",
        "\t}\n",
        "\tif (igualdad == 1) // 1\n",
        "\t{\n",
        "\t\tcout << \"si existe \"; //1 ambos casos son de tiempo 1\n",
        "\t}\n",
        "\telse\n",
        "\t{\n",
        "\t\tcout << \"no existe \"; //-\n",
        "\t}\n",
        "  // 19*n + 7 ; O(n)"
      ],
      "execution_count": null,
      "outputs": []
    },
    {
      "cell_type": "markdown",
      "metadata": {
        "id": "geeAZIj8tZH8"
      },
      "source": [
        "ejercicio 13.7"
      ]
    },
    {
      "cell_type": "code",
      "metadata": {
        "id": "VJPdUSv9s8dm"
      },
      "source": [
        "int n = 10;\n",
        "\tint* arr = new int[n]; // 1\n",
        "\tint busqueda = 19; // 1\n",
        "\tint repeticion = 0; // 1\n",
        "\tfor (int i = 0; i < n; i++) //1 + n(1 + ... + 2)\n",
        "\t{\n",
        "\t\tarr[i] = rand() % 30 + 1; // 5\n",
        "\t\tcout << arr[i] << endl; // 4\n",
        "\t}\n",
        "\tfor (int i = 0; i < n; i++) // 1 + n(1 + ... + 2)\n",
        "\t{\n",
        "\t\tif (arr[i] == busqueda) // 3\n",
        "\t\t{\n",
        "\t\t\trepeticion++; // 2\n",
        "\t\t}\n",
        "\t}\n",
        "\tcout << \"se repite \" << repeticion << \" veces\"; // 3\n",
        "  // 20*n + 8; O(n)"
      ],
      "execution_count": null,
      "outputs": []
    },
    {
      "cell_type": "markdown",
      "metadata": {
        "id": "x7n2XsXGtwai"
      },
      "source": [
        "ejercicio 13.8"
      ]
    },
    {
      "cell_type": "code",
      "metadata": {
        "id": "2PhV4JzetzMn"
      },
      "source": [
        "void SumaD(int n) {\n",
        "\n",
        "    int suma, r; // 2\n",
        "\n",
        "    while (n>0) { // log(n)\n",
        "        r = n % 10; // 2\n",
        "        n = n / 10; // 2\n",
        "        suma = suma + r; // 2\n",
        "    }\n",
        "    cout << suma << endl; // 3\n",
        "} //6*log(n)* + 5 ; O(log(n))\n",
        "\n",
        "int main() {\n",
        "\n",
        "    int n;\n",
        "    cout << \"Ingrese un numero\" << endl;\n",
        "    cin >> n;\n",
        "\n",
        "    SumaD(n);\n",
        "}"
      ],
      "execution_count": null,
      "outputs": []
    },
    {
      "cell_type": "markdown",
      "metadata": {
        "id": "ZS9JFIPEv3Wk"
      },
      "source": [
        "ejercicio 13.9"
      ]
    },
    {
      "cell_type": "code",
      "metadata": {
        "id": "hzPBTQ2ev0FW"
      },
      "source": [
        "\tint n = 9;\n",
        "\tint divisores = 0;\n",
        "\tfor (int i = 1; i <= n; i++)\n",
        "\t{\n",
        "\t\tif (n % i == 0)\n",
        "\t\t{\n",
        "\t\t\tdivisores++;\n",
        "\t\t}\n",
        "\t}\n",
        "\tif (divisores <= 2)\n",
        "\t{\n",
        "\t\tcout << \"es primo\";\n",
        "\t}\n",
        "\telse\n",
        "\t{\n",
        "\t\tcout << \"no es primo\";\n",
        "\t}"
      ],
      "execution_count": null,
      "outputs": []
    },
    {
      "cell_type": "markdown",
      "metadata": {
        "id": "9TIbvfmDx43N"
      },
      "source": [
        "13.10"
      ]
    },
    {
      "cell_type": "code",
      "metadata": {
        "id": "P3LAejWvx54b"
      },
      "source": [
        "int n = 10;\n",
        "\tint* arr = new int[n];\n",
        "\tint cont = 0;\n",
        "\tfor (int i = 0; i < n; i++)\n",
        "\t{\n",
        "\t\tarr[i] = rand() % 30 + 1;\n",
        "\t\tcout << arr[i] << endl;\n",
        "\t}\n",
        "\tfor (int i = 0; i < n; i++)\n",
        "\t{\n",
        "\t\tint divisores = 0;\n",
        "\t\tfor (int k = 1; k <= arr[i]; k++)\n",
        "\t\t{\n",
        "\t\t\tif (arr[i] % k == 0)\n",
        "\t\t\t{\n",
        "\t\t\t\tdivisores++;\n",
        "\t\t\t}\n",
        "\t\t}\n",
        "\t\tif (divisores <= 2)\n",
        "\t\t{\n",
        "\t\t\tcont++;\n",
        "\t\t}\n",
        "\t}\n",
        "\tcout << \"hay \" << cont << \" numeros primos\";"
      ],
      "execution_count": null,
      "outputs": []
    },
    {
      "cell_type": "markdown",
      "metadata": {
        "id": "a8IRrfVCWjc6"
      },
      "source": [
        "# Nueva sección"
      ]
    }
  ]
}